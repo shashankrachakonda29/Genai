{
 "cells": [
  {
   "cell_type": "code",
   "execution_count": 3,
   "id": "1411b504-c5c7-4e06-8995-87e1f9742b88",
   "metadata": {},
   "outputs": [
    {
     "data": {
      "text/plain": [
       "'The Number 2 is Even'"
      ]
     },
     "execution_count": 3,
     "metadata": {},
     "output_type": "execute_result"
    }
   ],
   "source": [
    "# n=int(input(\"Enter any number :\"))\n",
    "def even_or_odd(n):\n",
    "    if n%2 == 0:\n",
    "        return \"The Number {} is Even\".format(n)\n",
    "        # print(n,'is a even number')\n",
    "    else:\n",
    "        return \"The Number {} is Odd\".format(n)\n",
    "        # print(n,'is a odd number')\n",
    "even_or_odd(2)"
   ]
  },
  {
   "cell_type": "code",
   "execution_count": 5,
   "id": "86f12137-569a-4059-80d1-262cc0a3b00c",
   "metadata": {},
   "outputs": [
    {
     "data": {
      "text/plain": [
       "['The Number 2 is Even',\n",
       " 'The Number 3 is Odd',\n",
       " 'The Number 4 is Even',\n",
       " 'The Number 5 is Odd',\n",
       " 'The Number 6 is Even',\n",
       " 'The Number 7 is Odd',\n",
       " 'The Number 9 is Odd',\n",
       " 'The Number 4 is Even']"
      ]
     },
     "execution_count": 5,
     "metadata": {},
     "output_type": "execute_result"
    }
   ],
   "source": [
    "lst=[2,3,4,5,6,7,9,4]\n",
    "list(map(even_or_odd,lst))"
   ]
  },
  {
   "cell_type": "code",
   "execution_count": null,
   "id": "145baeea-fc0a-4434-8f0e-bd39ce0e75ec",
   "metadata": {},
   "outputs": [],
   "source": []
  }
 ],
 "metadata": {
  "kernelspec": {
   "display_name": "Python 3 (ipykernel)",
   "language": "python",
   "name": "python3"
  },
  "language_info": {
   "codemirror_mode": {
    "name": "ipython",
    "version": 3
   },
   "file_extension": ".py",
   "mimetype": "text/x-python",
   "name": "python",
   "nbconvert_exporter": "python",
   "pygments_lexer": "ipython3",
   "version": "3.12.6"
  }
 },
 "nbformat": 4,
 "nbformat_minor": 5
}
