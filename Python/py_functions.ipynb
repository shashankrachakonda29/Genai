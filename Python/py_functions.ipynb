{
 "cells": [
  {
   "cell_type": "code",
   "execution_count": 2,
   "id": "cad7ef73-8146-4793-94e7-f946926ab723",
   "metadata": {},
   "outputs": [
    {
     "name": "stdin",
     "output_type": "stream",
     "text": [
      "Enter any number:  29\n"
     ]
    },
    {
     "ename": "NameError",
     "evalue": "name 'is_prime' is not defined",
     "output_type": "error",
     "traceback": [
      "\u001b[1;31m---------------------------------------------------------------------------\u001b[0m",
      "\u001b[1;31mNameError\u001b[0m                                 Traceback (most recent call last)",
      "Cell \u001b[1;32mIn[2], line 2\u001b[0m\n\u001b[0;32m      1\u001b[0m check_prime\u001b[38;5;241m=\u001b[39m\u001b[38;5;28mint\u001b[39m(\u001b[38;5;28minput\u001b[39m(\u001b[38;5;124m\"\u001b[39m\u001b[38;5;124mEnter any number: \u001b[39m\u001b[38;5;124m\"\u001b[39m))\n\u001b[1;32m----> 2\u001b[0m \u001b[43mis_prime\u001b[49m(check_prime)       \n",
      "\u001b[1;31mNameError\u001b[0m: name 'is_prime' is not defined"
     ]
    }
   ],
   "source": [
    "print(\"Hello\")"
   ]
  },
  {
   "cell_type": "code",
   "execution_count": 9,
   "id": "cc2dc40c-388e-49a7-b1b3-4f1ba7fe57e9",
   "metadata": {},
   "outputs": [],
   "source": [
    "def is_prime(check_prime):\n",
    "    if(check_prime == 1):\n",
    "        print(check_prime,\"Is a prime number\")\n",
    "    elif(check_prime>1):\n",
    "        for i in range(2,check_prime):\n",
    "            if(check_prime%i == 0):\n",
    "                return True\n",
    "            else:\n",
    "                return False\n",
    "    else:\n",
    "        print(check_prime,\"Is not a prime number\")\n"
   ]
  },
  {
   "cell_type": "code",
   "execution_count": 10,
   "id": "8ff73b51-a768-4ce7-9250-af0def15ce63",
   "metadata": {},
   "outputs": [
    {
     "name": "stdin",
     "output_type": "stream",
     "text": [
      "Enter any number:  29\n"
     ]
    },
    {
     "name": "stdout",
     "output_type": "stream",
     "text": [
      "29 Is a prime number\n"
     ]
    }
   ],
   "source": [
    "check_prime=int(input(\"Enter any number: \"))\n",
    "if(is_prime(check_prime) == True):\n",
    "     print(check_prime,\"Is not a prime number\")\n",
    "else:\n",
    "    print(check_prime,\"Is a prime number\")"
   ]
  },
  {
   "cell_type": "code",
   "execution_count": null,
   "id": "8a11388f-565e-47e9-874f-403654ed5872",
   "metadata": {},
   "outputs": [],
   "source": []
  }
 ],
 "metadata": {
  "kernelspec": {
   "display_name": "Python 3 (ipykernel)",
   "language": "python",
   "name": "python3"
  },
  "language_info": {
   "codemirror_mode": {
    "name": "ipython",
    "version": 3
   },
   "file_extension": ".py",
   "mimetype": "text/x-python",
   "name": "python",
   "nbconvert_exporter": "python",
   "pygments_lexer": "ipython3",
   "version": "3.12.6"
  }
 },
 "nbformat": 4,
 "nbformat_minor": 5
}
