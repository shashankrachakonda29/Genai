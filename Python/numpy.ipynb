{
 "cells": [
  {
   "cell_type": "code",
   "execution_count": 1,
   "id": "976b0fae-a26c-4246-9137-5c104ff90209",
   "metadata": {},
   "outputs": [],
   "source": [
    "import numpy as np\n"
   ]
  },
  {
   "cell_type": "code",
   "execution_count": 6,
   "id": "b5b33e7b-fd43-4d27-925a-0249bdb6c7bb",
   "metadata": {},
   "outputs": [
    {
     "name": "stdout",
     "output_type": "stream",
     "text": [
      "(6,)\n",
      "6\n",
      "[1 2 4 6 8 9]\n"
     ]
    },
    {
     "data": {
      "text/plain": [
       "numpy.ndarray"
      ]
     },
     "execution_count": 6,
     "metadata": {},
     "output_type": "execute_result"
    }
   ],
   "source": [
    "my_list=[1,2,4,6,8,9]\n",
    "one_dm=np.array(my_list)\n",
    "print(one_dm.shape)\n",
    "print(one_dm[3])\n",
    "print(one_dm)\n",
    "type(one_dm)"
   ]
  },
  {
   "cell_type": "code",
   "execution_count": 7,
   "id": "bc634cf8-b0b6-4cd1-b55b-59a1c90a6297",
   "metadata": {},
   "outputs": [
    {
     "name": "stdout",
     "output_type": "stream",
     "text": [
      "[[1 2 4]\n",
      " [6 8 2]\n",
      " [4 6 8]\n",
      " [9 5 2]\n",
      " [0 6 2]]\n",
      "[[1 2 4 6 8]\n",
      " [2 4 6 8 9]\n",
      " [5 2 0 6 2]]\n"
     ]
    },
    {
     "data": {
      "text/plain": [
       "numpy.ndarray"
      ]
     },
     "execution_count": 7,
     "metadata": {},
     "output_type": "execute_result"
    }
   ],
   "source": [
    "my_list1=[1,2,4,6,8]\n",
    "my_list2=[2,4,6,8,9]\n",
    "my_list3=[5,2,0,6,2]\n",
    "two_dm=np.array([my_list1,my_list2,my_list3])\n",
    "print(two_dm.reshape(5,3))\n",
    "print(two_dm)\n",
    "type(two_dm)"
   ]
  },
  {
   "cell_type": "code",
   "execution_count": 8,
   "id": "b3152b7d-9403-4718-ba83-40f70f0aa27b",
   "metadata": {},
   "outputs": [
    {
     "name": "stdout",
     "output_type": "stream",
     "text": [
      "[[6 8]\n",
      " [0 6]]\n",
      "[[4 6 8]]\n"
     ]
    }
   ],
   "source": [
    "my_list1=[1,2,4,6,8]\n",
    "my_list2=[2,4,6,8,9]\n",
    "my_list3=[5,2,0,6,2]\n",
    "two_dm=np.array([my_list1,my_list2,my_list3])\n",
    "# print(two_dm)\n",
    "print(two_dm[1:,2:4])\n",
    "print(two_dm[1:2,1:4])\n"
   ]
  },
  {
   "cell_type": "code",
   "execution_count": 16,
   "id": "8b331d4b-6dc0-4af5-bdd1-a259a224f8b3",
   "metadata": {},
   "outputs": [
    {
     "name": "stdout",
     "output_type": "stream",
     "text": [
      "0\n",
      "1\n",
      "2\n",
      "3\n",
      "5\n"
     ]
    },
    {
     "data": {
      "text/plain": [
       "numpy.ndarray"
      ]
     },
     "execution_count": 16,
     "metadata": {},
     "output_type": "execute_result"
    }
   ],
   "source": [
    "a = np.array(42)\n",
    "b = np.array([1, 2, 3, 4, 5])\n",
    "c = np.array([[1, 2, 3], [4, 5, 6]])\n",
    "d = np.array([[[1, 2, 3], [4, 5, 6]], [[1, 2, 3], [4, 5, 6]]])\n",
    "e = np.array([[[1, 2, 3], [4, 5, 6]], [[1, 2, 3], [4, 5, 6]]],ndmin=5)\n",
    "\n",
    "print(a.ndim)\n",
    "print(b.ndim)\n",
    "print(c.ndim)\n",
    "print(d.ndim)\n",
    "print(e.ndim)\n",
    "type(e)"
   ]
  },
  {
   "cell_type": "code",
   "execution_count": 32,
   "id": "c5c1aedd-38c2-4d41-bbc7-6b743939ff64",
   "metadata": {},
   "outputs": [
    {
     "name": "stdout",
     "output_type": "stream",
     "text": [
      "[1 2 3 4 5 6 7 8 9]\n"
     ]
    }
   ],
   "source": [
    "arr_ran=np.arange(1,10)\n",
    "print(arr_ran)\n"
   ]
  },
  {
   "cell_type": "code",
   "execution_count": 35,
   "id": "26b7ca0a-1aba-4858-9805-c4516551b6b5",
   "metadata": {},
   "outputs": [
    {
     "name": "stdout",
     "output_type": "stream",
     "text": [
      "[[1 2 3]\n",
      " [4 5 6]\n",
      " [7 8 9]]\n"
     ]
    }
   ],
   "source": [
    "arr_ran=np.arange(1,10).reshape(3,3)\n",
    "print(arr_ran)\n"
   ]
  },
  {
   "cell_type": "code",
   "execution_count": 42,
   "id": "6bcca4b0-e23e-42a4-997d-ec5b3cc89016",
   "metadata": {},
   "outputs": [
    {
     "name": "stdout",
     "output_type": "stream",
     "text": [
      "[[1 2 3]\n",
      " [4 5 6]\n",
      " [7 8 9]]\n",
      "[[ 2  4  6]\n",
      " [ 8 10 12]\n",
      " [14 16 18]]\n",
      "[1 2 3 4 5]\n"
     ]
    }
   ],
   "source": [
    "arr5=np.arange(1,10).reshape(3,3)\n",
    "print(arr5)\n",
    "var=2\n",
    "print(arr5*2)\n",
    "print(arr5[arr5<6])\n",
    "\n"
   ]
  },
  {
   "cell_type": "code",
   "execution_count": 30,
   "id": "8c85d982-b4b2-45ac-9330-79b9acc17a07",
   "metadata": {},
   "outputs": [
    {
     "name": "stdout",
     "output_type": "stream",
     "text": [
      "[ 0.          0.40816327  0.81632653  1.2244898   1.63265306  2.04081633\n",
      "  2.44897959  2.85714286  3.26530612  3.67346939  4.08163265  4.48979592\n",
      "  4.89795918  5.30612245  5.71428571  6.12244898  6.53061224  6.93877551\n",
      "  7.34693878  7.75510204  8.16326531  8.57142857  8.97959184  9.3877551\n",
      "  9.79591837 10.20408163 10.6122449  11.02040816 11.42857143 11.83673469\n",
      " 12.24489796 12.65306122 13.06122449 13.46938776 13.87755102 14.28571429\n",
      " 14.69387755 15.10204082 15.51020408 15.91836735 16.32653061 16.73469388\n",
      " 17.14285714 17.55102041 17.95918367 18.36734694 18.7755102  19.18367347\n",
      " 19.59183673 20.        ]\n"
     ]
    }
   ],
   "source": [
    "arr_lin=np.linspace(0,20)\n",
    "print(arr_lin)"
   ]
  },
  {
   "cell_type": "code",
   "execution_count": 47,
   "id": "37509d7a-ee86-4ea3-a792-33609fb8488f",
   "metadata": {},
   "outputs": [
    {
     "name": "stdout",
     "output_type": "stream",
     "text": [
      "[[1 1 1 1 1]\n",
      " [1 1 1 1 1]]\n"
     ]
    }
   ],
   "source": [
    "arr_ones=np.ones((2,5),dtype='int')\n",
    "print(arr_ones)\n"
   ]
  },
  {
   "cell_type": "code",
   "execution_count": 49,
   "id": "60574096-71d1-46b1-a31e-2ae775dfb16b",
   "metadata": {},
   "outputs": [
    {
     "name": "stdout",
     "output_type": "stream",
     "text": [
      "[[0 0 0 0 0]\n",
      " [0 0 0 0 0]]\n"
     ]
    }
   ],
   "source": [
    "arr_zeros=np.zeros((2,5),dtype='int')\n",
    "print(arr_zeros)"
   ]
  },
  {
   "cell_type": "code",
   "execution_count": 12,
   "id": "378f29cd-c5fe-4a0b-a52c-f4bd165dfdbe",
   "metadata": {},
   "outputs": [
    {
     "name": "stdout",
     "output_type": "stream",
     "text": [
      "[[0.96384471 0.08671183 0.8802631 ]\n",
      " [0.28707837 0.67220269 0.06323275]\n",
      " [0.83584373 0.80009797 0.48502469]]\n"
     ]
    }
   ],
   "source": [
    "arr_randam=np.random.rand(3,3)\n",
    "print(arr_randam)"
   ]
  },
  {
   "cell_type": "code",
   "execution_count": 29,
   "id": "783431fe-77ff-43d4-9372-ad1671d03511",
   "metadata": {},
   "outputs": [
    {
     "name": "stdout",
     "output_type": "stream",
     "text": [
      "[[-0.08071781  0.58358927]\n",
      " [-1.13333652  1.64393382]\n",
      " [-0.21774223 -0.09130632]\n",
      " [-1.44958757 -1.56945631]\n",
      " [-0.57444749 -1.10370958]\n",
      " [ 0.41659414 -0.75326445]\n",
      " [-2.20707076 -0.24433908]\n",
      " [-0.83776486  0.31712731]]\n",
      "[[13  6  5 17]\n",
      " [19  3 16  2]\n",
      " [18 15 15  4]\n",
      " [18  5 15 19]\n",
      " [ 6  5 18 15]]\n"
     ]
    }
   ],
   "source": [
    "arr_randam_n=np.random.randn(4,4)\n",
    "print(arr_randam_n.reshape(8,2))\n",
    "arr_randam_int=np.random.randint(0,20,20)\n",
    "print(arr_randam_int.reshape(5,4))"
   ]
  },
  {
   "cell_type": "code",
   "execution_count": 3,
   "id": "32e990dc-a79c-40f4-a706-96017e2ca1e0",
   "metadata": {},
   "outputs": [],
   "source": [
    "import seaborn as sns\n",
    "import pandas as pd"
   ]
  },
  {
   "cell_type": "code",
   "execution_count": 31,
   "id": "fe32281b-f19c-49fa-a9bc-d80f51699540",
   "metadata": {},
   "outputs": [
    {
     "name": "stdout",
     "output_type": "stream",
     "text": [
      "    0   1   2   3\n",
      "0  13   6   5  17\n",
      "1  19   3  16   2\n",
      "2  18  15  15   4\n",
      "3  18   5  15  19\n",
      "4   6   5  18  15\n"
     ]
    },
    {
     "data": {
      "image/png": "[encoded data removed]",
      "text/plain": [
       "<Figure size 558.875x500 with 1 Axes>"
      ]
     },
     "metadata": {},
     "output_type": "display_data"
    }
   ],
   "source": [
    "dat_frm=pd.DataFrame(arr_randam_int.reshape(5,4))\n",
    "print(dat_frm)\n",
    "graph_ex=sns.displot(pd.DataFrame(arr_randam_int.reshape(5,4)))"
   ]
  },
  {
   "cell_type": "code",
   "execution_count": null,
   "id": "68489afb-1594-4b74-acd9-e1d2077892e9",
   "metadata": {},
   "outputs": [],
   "source": []
  }
 ],
 "metadata": {
  "kernelspec": {
   "display_name": "Python 3 (ipykernel)",
   "language": "python",
   "name": "python3"
  },
  "language_info": {
   "codemirror_mode": {
    "name": "ipython",
    "version": 3
   },
   "file_extension": ".py",
   "mimetype": "text/x-python",
   "name": "python",
   "nbconvert_exporter": "python",
   "pygments_lexer": "ipython3",
   "version": "3.12.6"
  }
 },
 "nbformat": 4,
 "nbformat_minor": 5
}
