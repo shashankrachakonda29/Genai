{
 "cells": [
  {
   "cell_type": "code",
   "execution_count": 5,
   "id": "976b0fae-a26c-4246-9137-5c104ff90209",
   "metadata": {},
   "outputs": [],
   "source": [
    "import numpy as np\n",
    "\n"
   ]
  },
  {
   "cell_type": "code",
   "execution_count": 6,
   "id": "b5b33e7b-fd43-4d27-925a-0249bdb6c7bb",
   "metadata": {},
   "outputs": [
    {
     "name": "stdout",
     "output_type": "stream",
     "text": [
      "(6,)\n",
      "6\n",
      "[1 2 4 6 8 9]\n"
     ]
    },
    {
     "data": {
      "text/plain": [
       "numpy.ndarray"
      ]
     },
     "execution_count": 6,
     "metadata": {},
     "output_type": "execute_result"
    }
   ],
   "source": [
    "my_list=[1,2,4,6,8,9]\n",
    "one_dm=np.array(my_list)\n",
    "print(one_dm.shape)\n",
    "print(one_dm[3])\n",
    "print(one_dm)\n",
    "type(one_dm)"
   ]
  },
  {
   "cell_type": "code",
   "execution_count": 7,
   "id": "bc634cf8-b0b6-4cd1-b55b-59a1c90a6297",
   "metadata": {},
   "outputs": [
    {
     "name": "stdout",
     "output_type": "stream",
     "text": [
      "[[1 2 4]\n",
      " [6 8 2]\n",
      " [4 6 8]\n",
      " [9 5 2]\n",
      " [0 6 2]]\n",
      "[[1 2 4 6 8]\n",
      " [2 4 6 8 9]\n",
      " [5 2 0 6 2]]\n"
     ]
    },
    {
     "data": {
      "text/plain": [
       "numpy.ndarray"
      ]
     },
     "execution_count": 7,
     "metadata": {},
     "output_type": "execute_result"
    }
   ],
   "source": [
    "my_list1=[1,2,4,6,8]\n",
    "my_list2=[2,4,6,8,9]\n",
    "my_list3=[5,2,0,6,2]\n",
    "two_dm=np.array([my_list1,my_list2,my_list3])\n",
    "print(two_dm.reshape(5,3))\n",
    "print(two_dm)\n",
    "type(two_dm)"
   ]
  },
  {
   "cell_type": "code",
   "execution_count": 8,
   "id": "b3152b7d-9403-4718-ba83-40f70f0aa27b",
   "metadata": {},
   "outputs": [
    {
     "name": "stdout",
     "output_type": "stream",
     "text": [
      "[[6 8]\n",
      " [0 6]]\n",
      "[[4 6 8]]\n"
     ]
    }
   ],
   "source": [
    "my_list1=[1,2,4,6,8]\n",
    "my_list2=[2,4,6,8,9]\n",
    "my_list3=[5,2,0,6,2]\n",
    "two_dm=np.array([my_list1,my_list2,my_list3])\n",
    "# print(two_dm)\n",
    "print(two_dm[1:,2:4])\n",
    "print(two_dm[1:2,1:4])\n"
   ]
  },
  {
   "cell_type": "code",
   "execution_count": 16,
   "id": "8b331d4b-6dc0-4af5-bdd1-a259a224f8b3",
   "metadata": {},
   "outputs": [
    {
     "name": "stdout",
     "output_type": "stream",
     "text": [
      "0\n",
      "1\n",
      "2\n",
      "3\n",
      "5\n"
     ]
    },
    {
     "data": {
      "text/plain": [
       "numpy.ndarray"
      ]
     },
     "execution_count": 16,
     "metadata": {},
     "output_type": "execute_result"
    }
   ],
   "source": [
    "a = np.array(42)\n",
    "b = np.array([1, 2, 3, 4, 5])\n",
    "c = np.array([[1, 2, 3], [4, 5, 6]])\n",
    "d = np.array([[[1, 2, 3], [4, 5, 6]], [[1, 2, 3], [4, 5, 6]]])\n",
    "e = np.array([[[1, 2, 3], [4, 5, 6]], [[1, 2, 3], [4, 5, 6]]],ndmin=5)\n",
    "\n",
    "print(a.ndim)\n",
    "print(b.ndim)\n",
    "print(c.ndim)\n",
    "print(d.ndim)\n",
    "print(e.ndim)\n",
    "type(e)"
   ]
  },
  {
   "cell_type": "code",
   "execution_count": 20,
   "id": "c5c1aedd-38c2-4d41-bbc7-6b743939ff64",
   "metadata": {},
   "outputs": [
    {
     "name": "stdout",
     "output_type": "stream",
     "text": [
      "[1 2 3 4 5 6 7 8 9]\n"
     ]
    }
   ],
   "source": [
    "arr_ran=np.arange(1,10)\n",
    "print(arr_ran)"
   ]
  },
  {
   "cell_type": "code",
   "execution_count": 26,
   "id": "8c85d982-b4b2-45ac-9330-79b9acc17a07",
   "metadata": {},
   "outputs": [
    {
     "ename": "TypeError",
     "evalue": "linspace() got an unexpected keyword argument 'dytpe'",
     "output_type": "error",
     "traceback": [
      "\u001b[1;31m---------------------------------------------------------------------------\u001b[0m",
      "\u001b[1;31mTypeError\u001b[0m                                 Traceback (most recent call last)",
      "Cell \u001b[1;32mIn[26], line 1\u001b[0m\n\u001b[1;32m----> 1\u001b[0m arr_lin\u001b[38;5;241m=\u001b[39m\u001b[43mnp\u001b[49m\u001b[38;5;241;43m.\u001b[39;49m\u001b[43mlinspace\u001b[49m\u001b[43m(\u001b[49m\u001b[38;5;241;43m0\u001b[39;49m\u001b[43m,\u001b[49m\u001b[38;5;241;43m10\u001b[39;49m\u001b[43m,\u001b[49m\u001b[38;5;241;43m20\u001b[39;49m\u001b[43m,\u001b[49m\u001b[43mdytpe\u001b[49m\u001b[38;5;241;43m=\u001b[39;49m\u001b[38;5;28;43mint\u001b[39;49m\u001b[43m)\u001b[49m\n\u001b[0;32m      2\u001b[0m \u001b[38;5;28mprint\u001b[39m(arr_lin)\n",
      "\u001b[1;31mTypeError\u001b[0m: linspace() got an unexpected keyword argument 'dytpe'"
     ]
    }
   ],
   "source": [
    "arr_lin=np.linspace(0,10,20)\n",
    "print(arr_lin)"
   ]
  },
  {
   "cell_type": "code",
   "execution_count": null,
   "id": "37509d7a-ee86-4ea3-a792-33609fb8488f",
   "metadata": {},
   "outputs": [],
   "source": []
  }
 ],
 "metadata": {
  "kernelspec": {
   "display_name": "Python 3 (ipykernel)",
   "language": "python",
   "name": "python3"
  },
  "language_info": {
   "codemirror_mode": {
    "name": "ipython",
    "version": 3
   },
   "file_extension": ".py",
   "mimetype": "text/x-python",
   "name": "python",
   "nbconvert_exporter": "python",
   "pygments_lexer": "ipython3",
   "version": "3.12.6"
  }
 },
 "nbformat": 4,
 "nbformat_minor": 5
}
