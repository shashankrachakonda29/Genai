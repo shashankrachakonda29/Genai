{
 "cells": [
  {
   "cell_type": "code",
   "execution_count": null,
   "id": "1411b504-c5c7-4e06-8995-87e1f9742b88",
   "metadata": {},
   "outputs": [],
   "source": [
    "def even_or_odd(n):\n",
    "    if n%2 == 0:\n",
    "        # return True\n",
    "        print(n,'is a even number')\n",
    "    else:\n",
    "        # return False\n",
    "        print(n,'is a odd number')"
   ]
  }
 ],
 "metadata": {
  "kernelspec": {
   "display_name": "Python 3 (ipykernel)",
   "language": "python",
   "name": "python3"
  },
  "language_info": {
   "codemirror_mode": {
    "name": "ipython",
    "version": 3
   },
   "file_extension": ".py",
   "mimetype": "text/x-python",
   "name": "python",
   "nbconvert_exporter": "python",
   "pygments_lexer": "ipython3",
   "version": "3.12.6"
  }
 },
 "nbformat": 4,
 "nbformat_minor": 5
}
