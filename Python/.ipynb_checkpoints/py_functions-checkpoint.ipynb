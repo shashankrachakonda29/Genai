{
 "cells": [
  {
   "cell_type": "code",
   "execution_count": null,
   "id": "cad7ef73-8146-4793-94e7-f946926ab723",
   "metadata": {},
   "outputs": [],
   "source": [
    "check_prime=int(input(\"Enter any number: \")\n",
    "                "
   ]
  },
  {
   "cell_type": "code",
   "execution_count": null,
   "id": "cc2dc40c-388e-49a7-b1b3-4f1ba7fe57e9",
   "metadata": {},
   "outputs": [],
   "source": [
    "def is_prime(check_prime):\n",
    "    if(check_prime == 1):\n",
    "        print(check_prime,\"Is a prime number\")\n",
    "    elif(check_prime>1):\n",
    "        for i in range(2,check_prime):\n",
    "            if(check_prime%i == 0):\n",
    "                print(check_prime,\"Is not a prime number\")\n",
    "            else:\n",
    "                print(check_prime,\"Is a prime number\")\n",
    "    else:\n",
    "        print(check_prime,\"Is not a prime number\")"
   ]
  },
  {
   "cell_type": "code",
   "execution_count": null,
   "id": "8ff73b51-a768-4ce7-9250-af0def15ce63",
   "metadata": {},
   "outputs": [],
   "source": []
  }
 ],
 "metadata": {
  "kernelspec": {
   "display_name": "Python 3 (ipykernel)",
   "language": "python",
   "name": "python3"
  },
  "language_info": {
   "codemirror_mode": {
    "name": "ipython",
    "version": 3
   },
   "file_extension": ".py",
   "mimetype": "text/x-python",
   "name": "python",
   "nbconvert_exporter": "python",
   "pygments_lexer": "ipython3",
   "version": "3.12.6"
  }
 },
 "nbformat": 4,
 "nbformat_minor": 5
}
