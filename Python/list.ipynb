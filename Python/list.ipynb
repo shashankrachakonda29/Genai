{
 "cells": [
  {
   "cell_type": "code",
   "execution_count": 1,
   "id": "0f021806-ff80-4b90-8389-6cb252bddca9",
   "metadata": {},
   "outputs": [],
   "source": [
    "lst=[]"
   ]
  },
  {
   "cell_type": "code",
   "execution_count": 2,
   "id": "f0205fd7-7114-4dd7-b749-feaaa9630ccd",
   "metadata": {},
   "outputs": [],
   "source": [
    "lst_1=list()"
   ]
  },
  {
   "cell_type": "code",
   "execution_count": 9,
   "id": "c1233e8d-7502-4a47-9c94-36b6c0d249c8",
   "metadata": {},
   "outputs": [
    {
     "name": "stdout",
     "output_type": "stream",
     "text": [
      "[0, 2, 4, 6, 8]\n",
      "[1, 2]\n",
      "['h', 'e', 'l', 'l', 'o']\n"
     ]
    }
   ],
   "source": [
    "my_list = [x * 2 for x in range(5)]\n",
    "print(my_list)\n",
    "# my_list = []\n",
    "my_list = list()\n",
    "my_list.append(1)\n",
    "my_list.append(2)\n",
    "print(my_list)\n",
    "my_list = list(\"hello\") \n",
    "print(my_list)"
   ]
  },
  {
   "cell_type": "code",
   "execution_count": 19,
   "id": "6e6334b9-93fd-44fc-a8f5-786b3b0b70a4",
   "metadata": {},
   "outputs": [],
   "source": []
  },
  {
   "cell_type": "code",
   "execution_count": 29,
   "id": "2e41252b-508d-401e-b342-a1f9dd6abb30",
   "metadata": {},
   "outputs": [
    {
     "name": "stdout",
     "output_type": "stream",
     "text": [
      "min 120\n",
      "43.375\n",
      "2\n"
     ]
    }
   ],
   "source": [
    "runs=[20,50,60,10,5,80,2,120]  # example list\n",
    "print('min',max(runs))\n",
    "avg_runs=sum(runs)/len(runs)\n",
    "print(avg_runs)\n",
    "minimum = runs[0]  # start with the first element\n",
    "for i in runs:\n",
    "    if i < minimum:\n",
    "        minimum = i\n",
    "print(minimum)\n",
    "    "
   ]
  },
  {
   "cell_type": "code",
   "execution_count": 31,
   "id": "526635f3-7e2e-4a7e-a214-7254b1cb639b",
   "metadata": {},
   "outputs": [
    {
     "name": "stdin",
     "output_type": "stream",
     "text": [
      " 5\n",
      " 10\n",
      " 20\n",
      " 30\n",
      " 40\n",
      " 50\n"
     ]
    },
    {
     "name": "stdout",
     "output_type": "stream",
     "text": [
      "[10, 20, 30, 40, 50]\n"
     ]
    }
   ],
   "source": [
    "n = int(input())\n",
    "lst = [] #list()\n",
    "for i in range(n):\n",
    "  runs = int(input())\n",
    "  lst.append(runs)\n",
    "print(lst) "
   ]
  },
  {
   "cell_type": "code",
   "execution_count": 38,
   "id": "639c0bd9-ff63-442b-a0d1-9a5accc72c32",
   "metadata": {},
   "outputs": [
    {
     "name": "stdin",
     "output_type": "stream",
     "text": [
      "Enter no of matches 5\n",
      "Enter in runs of matches 5 10 30\n",
      "Enter in runs of matches 40 50 60\n",
      "Enter in runs of matches 70\n"
     ]
    }
   ],
   "source": [
    "n = int(input(\"Enter no of matches\"))\n",
    "runs=input(\"Enter in runs of matches\")\n",
    "lst=runs.split()\n",
    "if n == len(lst) and n <=len(lst):\n",
    "    print(lst)\n",
    "else:\n",
    "    for j in range(len(lst)+1,n+1):\n",
    "        run=input(\"Enter in runs of matches\")\n",
    "        match=len(run.split())\n",
    "        ttl=len(lst)+match\n",
    "        if n<=ttl:\n",
    "            lst.extend(run.split())\n",
    "            if(ttl == n):\n",
    "                print(lst)\n",
    "                break\n",
    "        else:\n",
    "            run=input(\"Enter in runs of matches\")\n",
    "        \n",
    "\n",
    "    \n",
    "        \n",
    "\n",
    "# lst = [] #list()\n",
    "# # for i in range(1):\n",
    "# runs = input()\n",
    "# x = runs.split()\n",
    "# print(x)\n",
    "# for j in x:\n",
    "#     v = int(j) \n",
    "#     lst.append(v)\n",
    "# print(lst) \n"
   ]
  },
  {
   "cell_type": "code",
   "execution_count": 1,
   "id": "6edd247c-caa5-4b54-b34b-bf01f60e6298",
   "metadata": {},
   "outputs": [
    {
     "name": "stdout",
     "output_type": "stream",
     "text": [
      "[1.5, 2.5, 3.5]\n"
     ]
    }
   ],
   "source": [
    "l = [1, 2, 3]\n",
    "lst = map(lambda x: 0.5 + x, l)\n",
    "# Convert map object to list to view the result\n",
    "print(list(lst))\n",
    "\n"
   ]
  },
  {
   "cell_type": "code",
   "execution_count": 7,
   "id": "5bc23ecd-5377-44bc-961c-ffca343ccffe",
   "metadata": {},
   "outputs": [
    {
     "name": "stdout",
     "output_type": "stream",
     "text": [
      "[1, 2, 3]\n",
      "[1, 2, 3, 4]\n"
     ]
    }
   ],
   "source": [
    "x=[1,2,3]\n",
    "y=x\n",
    "x=x+[4]\n",
    "print(y)\n",
    "print(x)"
   ]
  },
  {
   "cell_type": "code",
   "execution_count": null,
   "id": "d19af4f3-42f9-4b71-a942-7fe0f0d5a98f",
   "metadata": {},
   "outputs": [],
   "source": []
  }
 ],
 "metadata": {
  "kernelspec": {
   "display_name": "Python 3 (ipykernel)",
   "language": "python",
   "name": "python3"
  },
  "language_info": {
   "codemirror_mode": {
    "name": "ipython",
    "version": 3
   },
   "file_extension": ".py",
   "mimetype": "text/x-python",
   "name": "python",
   "nbconvert_exporter": "python",
   "pygments_lexer": "ipython3",
   "version": "3.12.6"
  }
 },
 "nbformat": 4,
 "nbformat_minor": 5
}
