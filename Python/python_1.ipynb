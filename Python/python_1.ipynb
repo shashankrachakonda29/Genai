{
 "cells": [
  {
   "cell_type": "code",
   "execution_count": 1,
   "id": "3524cf46-10fd-4b7a-a0ea-57ec76c59532",
   "metadata": {},
   "outputs": [],
   "source": [
    "import pandas as pd"
   ]
  },
  {
   "cell_type": "code",
   "execution_count": 5,
   "id": "2ea83293-8103-41ca-859f-ad71e3a0442e",
   "metadata": {},
   "outputs": [],
   "source": [
    "l=list()"
   ]
  },
  {
   "cell_type": "code",
   "execution_count": 6,
   "id": "51195f6a-04f8-4605-a7c8-18824dcf6ad2",
   "metadata": {},
   "outputs": [],
   "source": [
    "st= \"\"\"This creates the target directory (including parent directories as needed)\n",
    "and places a pyvenv.cfg file in it with a home key pointing to the Python installation from which the command was run. It also creates a bin (or Scripts on Windows) subdirectory containing a copy or symlink of the Python executable (as appropriate for the platform or arguments used at environment creation time). It also creates a lib/pythonX.Y/site-packages subdirectory (\n",
    "on Windows, this is Libsite-packages). If an existing directory is specified, it will be re-used.\"\"\""
   ]
  },
  {
   "cell_type": "code",
   "execution_count": 13,
   "id": "27ad2b58-2253-4a28-8810-aaec902a45ad",
   "metadata": {},
   "outputs": [
    {
     "data": {
      "text/plain": [
       "{'This': 4,\n",
       " 'creates': 7,\n",
       " 'target': 6,\n",
       " 'directory': 9,\n",
       " '(including': 10,\n",
       " 'parent': 6,\n",
       " 'directories': 11,\n",
       " 'needed)': 7,\n",
       " 'places': 6,\n",
       " 'pyvenv.cfg': 10,\n",
       " 'file': 4,\n",
       " 'with': 4,\n",
       " 'home': 4,\n",
       " 'pointing': 8,\n",
       " 'Python': 6,\n",
       " 'installation': 12,\n",
       " 'from': 4,\n",
       " 'which': 5,\n",
       " 'command': 7,\n",
       " 'run.': 4,\n",
       " 'also': 4,\n",
       " 'Scripts': 7,\n",
       " 'Windows)': 8,\n",
       " 'subdirectory': 12,\n",
       " 'containing': 10,\n",
       " 'copy': 4,\n",
       " 'symlink': 7,\n",
       " 'executable': 10,\n",
       " 'appropriate': 11,\n",
       " 'platform': 8,\n",
       " 'arguments': 9,\n",
       " 'used': 4,\n",
       " 'environment': 11,\n",
       " 'creation': 8,\n",
       " 'time).': 6,\n",
       " 'lib/pythonX.Y/site-packages': 27,\n",
       " 'Windows,': 8,\n",
       " 'this': 4,\n",
       " 'Libsite-packages).': 18,\n",
       " 'existing': 8,\n",
       " 'specified,': 10,\n",
       " 'will': 4,\n",
       " 're-used.': 8}"
      ]
     },
     "execution_count": 13,
     "metadata": {},
     "output_type": "execute_result"
    }
   ],
   "source": [
    "di={}\n",
    "for col in st.split():\n",
    "    if len(col)>3:\n",
    "        di[col]= len(col)\n",
    "        \n"
   ]
  },
  {
   "cell_type": "code",
   "execution_count": 14,
   "id": "b0dd20ff-42a1-4476-b755-d4ea4a4efd2e",
   "metadata": {},
   "outputs": [
    {
     "name": "stdout",
     "output_type": "stream",
     "text": [
      "   calories  duration\n",
      "0       420        50\n",
      "1       380        40\n",
      "2       390        45\n"
     ]
    }
   ],
   "source": [
    "import pandas as pd\n",
    "\n",
    "data = {\n",
    "  \"calories\": [420, 380, 390],\n",
    "  \"duration\": [50, 40, 45]\n",
    "}\n",
    "\n",
    "#load data into a DataFrame object:\n",
    "df = pd.DataFrame(data)\n",
    "\n",
    "print(df) "
   ]
  },
  {
   "cell_type": "code",
   "execution_count": 15,
   "id": "55d042e4-4c06-4362-9f62-4a59a91738ee",
   "metadata": {},
   "outputs": [
    {
     "data": {
      "text/html": [
       "<div>\n",
       "<style scoped>\n",
       "    .dataframe tbody tr th:only-of-type {\n",
       "        vertical-align: middle;\n",
       "    }\n",
       "\n",
       "    .dataframe tbody tr th {\n",
       "        vertical-align: top;\n",
       "    }\n",
       "\n",
       "    .dataframe thead th {\n",
       "        text-align: right;\n",
       "    }\n",
       "</style>\n",
       "<table border=\"1\" class=\"dataframe\">\n",
       "  <thead>\n",
       "    <tr style=\"text-align: right;\">\n",
       "      <th></th>\n",
       "      <th>calories</th>\n",
       "      <th>duration</th>\n",
       "    </tr>\n",
       "  </thead>\n",
       "  <tbody>\n",
       "    <tr>\n",
       "      <th>0</th>\n",
       "      <td>420</td>\n",
       "      <td>50</td>\n",
       "    </tr>\n",
       "    <tr>\n",
       "      <th>1</th>\n",
       "      <td>380</td>\n",
       "      <td>40</td>\n",
       "    </tr>\n",
       "    <tr>\n",
       "      <th>2</th>\n",
       "      <td>390</td>\n",
       "      <td>45</td>\n",
       "    </tr>\n",
       "  </tbody>\n",
       "</table>\n",
       "</div>"
      ],
      "text/plain": [
       "   calories  duration\n",
       "0       420        50\n",
       "1       380        40\n",
       "2       390        45"
      ]
     },
     "execution_count": 15,
     "metadata": {},
     "output_type": "execute_result"
    }
   ],
   "source": [
    "pd.DataFrame.from_dict(data)"
   ]
  },
  {
   "cell_type": "code",
   "execution_count": 19,
   "id": "7f8b4671-7a5a-4fc9-97c3-d626c4569f07",
   "metadata": {},
   "outputs": [
    {
     "name": "stdout",
     "output_type": "stream",
     "text": [
      "     PassengerId  Survived  Pclass  \\\n",
      "0              1         0       3   \n",
      "1              2         1       1   \n",
      "2              3         1       3   \n",
      "3              4         1       1   \n",
      "4              5         0       3   \n",
      "..           ...       ...     ...   \n",
      "886          887         0       2   \n",
      "887          888         1       1   \n",
      "888          889         0       3   \n",
      "889          890         1       1   \n",
      "890          891         0       3   \n",
      "\n",
      "                                                  Name     Sex   Age  SibSp  \\\n",
      "0                              Braund, Mr. Owen Harris    male  22.0      1   \n",
      "1    Cumings, Mrs. John Bradley (Florence Briggs Th...  female  38.0      1   \n",
      "2                               Heikkinen, Miss. Laina  female  26.0      0   \n",
      "3         Futrelle, Mrs. Jacques Heath (Lily May Peel)  female  35.0      1   \n",
      "4                             Allen, Mr. William Henry    male  35.0      0   \n",
      "..                                                 ...     ...   ...    ...   \n",
      "886                              Montvila, Rev. Juozas    male  27.0      0   \n",
      "887                       Graham, Miss. Margaret Edith  female  19.0      0   \n",
      "888           Johnston, Miss. Catherine Helen \"Carrie\"  female   NaN      1   \n",
      "889                              Behr, Mr. Karl Howell    male  26.0      0   \n",
      "890                                Dooley, Mr. Patrick    male  32.0      0   \n",
      "\n",
      "     Parch            Ticket     Fare Cabin Embarked  \n",
      "0        0         A/5 21171   7.2500   NaN        S  \n",
      "1        0          PC 17599  71.2833   C85        C  \n",
      "2        0  STON/O2. 3101282   7.9250   NaN        S  \n",
      "3        0            113803  53.1000  C123        S  \n",
      "4        0            373450   8.0500   NaN        S  \n",
      "..     ...               ...      ...   ...      ...  \n",
      "886      0            211536  13.0000   NaN        S  \n",
      "887      0            112053  30.0000   B42        S  \n",
      "888      2        W./C. 6607  23.4500   NaN        S  \n",
      "889      0            111369  30.0000  C148        C  \n",
      "890      0            370376   7.7500   NaN        Q  \n",
      "\n",
      "[891 rows x 12 columns]\n"
     ]
    }
   ],
   "source": [
    "csvFile = pd.read_csv('titanic.csv')\n",
    "print(csvFile)"
   ]
  },
  {
   "cell_type": "code",
   "execution_count": 12,
   "id": "c0a348ec-9d08-412b-9678-48e866c52c2d",
   "metadata": {},
   "outputs": [
    {
     "name": "stdout",
     "output_type": "stream",
     "text": [
      "My Original is : [1, 1, 1, 4, 4, 6, 20, 22, 39, 54, 78]\n",
      "My New Sorted list: [1, 1, 1, 4, 4, 6, 20, 22, 39, 54, 78]\n"
     ]
    }
   ],
   "source": [
    "my_list = [4, 6, 1, 4, 1, 22, 78, 54, 39, 1, 20]\n",
    "my_list.sort()\n",
    "print(\"My Original is :\", my_list)\n",
    "# new_sorted=sorted(my_list)\n",
    "print(\"My New Sorted list:\", new_sorted)\n"
   ]
  },
  {
   "cell_type": "code",
   "execution_count": 1,
   "id": "2d22b62e-02a7-40fe-9153-dbdb9cae04c5",
   "metadata": {},
   "outputs": [
    {
     "name": "stdout",
     "output_type": "stream",
     "text": [
      "Append list: [0, 1, 2, 3, 4, 5, 6, 7, 8, 9]\n"
     ]
    }
   ],
   "source": [
    "num_list=[]\n",
    "for i in range(10):\n",
    "    num_list.append(i)\n",
    "print(\"Append list:\",num_list)"
   ]
  },
  {
   "cell_type": "code",
   "execution_count": 25,
   "id": "487d0da3-a742-417b-8129-f28eb50c44c4",
   "metadata": {},
   "outputs": [
    {
     "data": {
      "text/plain": [
       "['0 is even',\n",
       " '1 is odd',\n",
       " '2 is even',\n",
       " '3 is odd',\n",
       " '4 is even',\n",
       " '5 is odd',\n",
       " '6 is even',\n",
       " '7 is odd',\n",
       " '8 is even',\n",
       " '9 is odd']"
      ]
     },
     "execution_count": 25,
     "metadata": {},
     "output_type": "execute_result"
    }
   ],
   "source": [
    "[f\"{i} is even\" if i % 2 == 0 else f\"{i} is odd\" for i in range(10)]\n",
    "\n"
   ]
  },
  {
   "cell_type": "code",
   "execution_count": 16,
   "id": "ace767c8-360f-4528-97ba-7df8b867aaea",
   "metadata": {},
   "outputs": [
    {
     "name": "stdin",
     "output_type": "stream",
     "text": [
      "Enter any Year:  2023\n"
     ]
    },
    {
     "name": "stdout",
     "output_type": "stream",
     "text": [
      "2023 is not a leap year\n"
     ]
    }
   ],
   "source": [
    "year = int(input(\"Enter any Year: \"))\n",
    "print(year,\"is a leap year\" if (year % 400 == 0) or (year % 4 == 0 and year % 100 != 0) else year,\"is not a leap year\")\n",
    "\n",
    "\n",
    "\n",
    "    "
   ]
  },
  {
   "cell_type": "code",
   "execution_count": null,
   "id": "9594da44-4896-4687-ad31-384012ff7645",
   "metadata": {},
   "outputs": [],
   "source": []
  }
 ],
 "metadata": {
  "kernelspec": {
   "display_name": "Python 3 (ipykernel)",
   "language": "python",
   "name": "python3"
  },
  "language_info": {
   "codemirror_mode": {
    "name": "ipython",
    "version": 3
   },
   "file_extension": ".py",
   "mimetype": "text/x-python",
   "name": "python",
   "nbconvert_exporter": "python",
   "pygments_lexer": "ipython3",
   "version": "3.12.6"
  }
 },
 "nbformat": 4,
 "nbformat_minor": 5
}
